{
 "cells": [
  {
   "cell_type": "markdown",
   "metadata": {},
   "source": [
    "# Google Ads Scaper\n",
    "\n",
    "This scraper shall scrape Google Ads (Google Ad Words) for given keywords."
   ]
  },
  {
   "cell_type": "markdown",
   "metadata": {},
   "source": [
    "![logo](./pics/GoogleAds_002.png \"Logo Title Text 2\")\n",
    "\n",
    "### DOM Hierachy:\n",
    "![path](./pics/DOM_path_to_tads.png \"Logo Title Text 2\")"
   ]
  },
  {
   "cell_type": "markdown",
   "metadata": {},
   "source": [
    "### How are they structured\n",
    "\n",
    "```html\n",
    "<div id=\"tads\">\n",
    "    <ol>\n",
    "        <li class=\"ads-ad\">_</li>\n",
    "        <li class=\"ads-ad\">_</li>\n",
    "        <li class=\"ads-ad\">_</li>\n",
    "        ...\n",
    "    </ol>\n",
    "</div>\n",
    "```\n",
    "\n",
    "- the Ads are in a div with the id \"tads\"\n",
    "- every ad itself is a list item with the class \"ads-ad\""
   ]
  },
  {
   "cell_type": "code",
   "execution_count": 1,
   "metadata": {},
   "outputs": [],
   "source": [
    "from bs4 import BeautifulSoup\n",
    "import urllib3"
   ]
  },
  {
   "cell_type": "code",
   "execution_count": 9,
   "metadata": {},
   "outputs": [],
   "source": [
    "class AdWordScraper():\n",
    "    title = \"\"\n",
    "    url = \"\"\n",
    "    ad_list = []\n",
    "    \n",
    "    def __init__(self, keyword):\n",
    "        self.title = keyword\n",
    "        self.url = self.generate_url()\n",
    "        self.ad_list = self.scrape_ads()\n",
    "        \n",
    "    def generate_url(self):\n",
    "        keyword = self.title.lower()\n",
    "        split = keyword.split(\" \")\n",
    "        merge = \"+\".join(split)\n",
    "        link = \"http://www.google.de/search?q=\" + merge\n",
    "        return link\n",
    "    \n",
    "    def scrape_ads(self):\n",
    "        scraped = self.get_site_soup()    \n",
    "        ads = scraped.find_all(\"li\", {\"class\": \"ads-ad\"})\n",
    "        ad_list = []\n",
    "        for ad in ads:\n",
    "            dic = {\n",
    "                \"text\": ad.find('a').text,\n",
    "                \"ad_link\": ad.find('div', {'class': 'ads-visurl'}).cite.text,\n",
    "                \"html\": ad\n",
    "            }\n",
    "            ad_list.append(dic)\n",
    "\n",
    "        return ad_list\n",
    "    \n",
    "    def get_site_soup(self):\n",
    "        http = urllib3.PoolManager()\n",
    "        r = http.request('get', self.url)\n",
    "\n",
    "        # format it nicely and return\n",
    "        soup = BeautifulSoup(r.data, 'lxml')\n",
    "        return soup\n",
    "        "
   ]
  },
  {
   "cell_type": "code",
   "execution_count": 32,
   "metadata": {},
   "outputs": [],
   "source": [
    "def get_ads(keywords):\n",
    "    ads = [AdWordScraper(key) for key in keywords]\n",
    "    return ads"
   ]
  },
  {
   "cell_type": "code",
   "execution_count": 33,
   "metadata": {},
   "outputs": [],
   "source": [
    "keywords = [\"refugee\", \"eu\", \"europe\", \"smartphone\", \"google\", \"beutel\", \"bedrucken\", \"ads\", \"vote\", \"brexit\"]"
   ]
  },
  {
   "cell_type": "code",
   "execution_count": 35,
   "metadata": {},
   "outputs": [
    {
     "data": {
      "text/plain": [
       "[<__main__.AdWordScraper at 0x7f55765b7860>,\n",
       " <__main__.AdWordScraper at 0x7f5576e04e48>,\n",
       " <__main__.AdWordScraper at 0x7f55766bd400>,\n",
       " <__main__.AdWordScraper at 0x7f558c33ae48>,\n",
       " <__main__.AdWordScraper at 0x7f55766997b8>,\n",
       " <__main__.AdWordScraper at 0x7f5576512cf8>,\n",
       " <__main__.AdWordScraper at 0x7f557689cfd0>,\n",
       " <__main__.AdWordScraper at 0x7f5576516a20>,\n",
       " <__main__.AdWordScraper at 0x7f5576c576d8>,\n",
       " <__main__.AdWordScraper at 0x7f55764292e8>]"
      ]
     },
     "execution_count": 35,
     "metadata": {},
     "output_type": "execute_result"
    }
   ],
   "source": [
    "ads = get_ads(keywords)\n",
    "ads"
   ]
  },
  {
   "cell_type": "code",
   "execution_count": 31,
   "metadata": {},
   "outputs": [
    {
     "name": "stdout",
     "output_type": "stream",
     "text": [
      "refugee: False\n",
      "eu: False\n",
      "europe: False\n",
      "smartphone: True\n",
      "google: False\n",
      "beutel: False\n",
      "bedrucken: True\n",
      "ads: True\n",
      "vote: False\n",
      "brexit: False\n"
     ]
    }
   ],
   "source": [
    "# check if there are ads for the keywords\n",
    "for ad in ads:\n",
    "    print(\"{}: {}\".format(ad.title, not not ad.ad_list))"
   ]
  },
  {
   "cell_type": "code",
   "execution_count": null,
   "metadata": {},
   "outputs": [],
   "source": []
  }
 ],
 "metadata": {
  "kernelspec": {
   "display_name": "env",
   "language": "python",
   "name": "env"
  },
  "language_info": {
   "codemirror_mode": {
    "name": "ipython",
    "version": 3
   },
   "file_extension": ".py",
   "mimetype": "text/x-python",
   "name": "python",
   "nbconvert_exporter": "python",
   "pygments_lexer": "ipython3",
   "version": "3.6.7"
  }
 },
 "nbformat": 4,
 "nbformat_minor": 2
}
