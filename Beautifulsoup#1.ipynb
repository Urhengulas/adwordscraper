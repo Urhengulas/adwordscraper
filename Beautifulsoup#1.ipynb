{
 "cells": [
  {
   "cell_type": "markdown",
   "metadata": {},
   "source": [
    "# Google Ads Scaper\n",
    "\n",
    "This scraper shall scrape Google Ads (Google Ad Words) for given keywords."
   ]
  },
  {
   "cell_type": "markdown",
   "metadata": {},
   "source": [
    "![logo](./pics/GoogleAds_002.png \"Logo Title Text 2\")\n",
    "\n",
    "### DOM Hierachy:\n",
    "![path](./pics/DOM_path_to_tads.png \"Logo Title Text 2\")"
   ]
  },
  {
   "cell_type": "markdown",
   "metadata": {},
   "source": [
    "### How are they structured\n",
    "\n",
    "```html\n",
    "<div id=\"tads\">\n",
    "    <ol>\n",
    "        <li class=\"ads-ad\">_</li>\n",
    "        <li class=\"ads-ad\">_</li>\n",
    "        <li class=\"ads-ad\">_</li>\n",
    "        ...\n",
    "    </ol>\n",
    "</div>\n",
    "```\n",
    "\n",
    "- the Ads are in a div with the id \"tads\"\n",
    "- every ad itself is a list item with the class \"ads-ad\""
   ]
  },
  {
   "cell_type": "markdown",
   "metadata": {},
   "source": [
    "# Implementation Details\n",
    "\n",
    "We scrape ads in the Google Search for in `keywords` given keywords. For each keyword we generate a `KeywordAdsScraper`\n",
    "## > KeywordAdsScraper\n",
    "\n",
    "Wrapper for \"Google Ads\"-ads for a specific keyword. \n",
    "\n",
    "**dtype:** `Object`\n",
    "\n",
    "**Properties:**\n",
    "\n",
    "| name | dtype | description |\n",
    "| --- | :---: | --: |\n",
    "| title | `string` | The Keyword which was scraped for. |\n",
    "| url | `string` | The url which was scraped. |\n",
    "| ad_list| `list` | A list of all ads which are found. |\n",
    "\n",
    "### > ad_list\n",
    "\n",
    "List of dictionaries for ads.\n",
    "\n",
    "dtype: `list`\n",
    "\n",
    "**Properties:**\n",
    "\n",
    "| name | dtype | description |\n",
    "| --- | --- | --- |\n",
    "| text | `string` | The Keyword which was scraped for. |\n",
    "| ad_link | `string` | The url which was scraped. |\n",
    "| html | `BeautifulSoup-Object` | A list of all ads which are found. |\n"
   ]
  },
  {
   "cell_type": "code",
   "execution_count": 5,
   "metadata": {},
   "outputs": [],
   "source": [
    "from KeywordAdsScraper import KeywordAdsScraper"
   ]
  },
  {
   "cell_type": "code",
   "execution_count": 6,
   "metadata": {},
   "outputs": [],
   "source": [
    "def main():\n",
    "    # list of keywords we are scraping for\n",
    "    keywords = [\"refugee\", \"eu\", \"europe\", \"smartphone\",\n",
    "                \"google\", \"beutel\", \"bedrucken\", \"ads\", \"vote\", \"brexit\"]\n",
    "\n",
    "    # generate an AdWordScraper-Object for each keyword\n",
    "    keyword_ads_list = [KeywordAdsScraper(key) for key in keywords]\n",
    "\n",
    "    # Print all Ads in a structured way\n",
    "    print_keyword_ads_list(keyword_ads_list)"
   ]
  },
  {
   "cell_type": "code",
   "execution_count": 3,
   "metadata": {},
   "outputs": [],
   "source": [
    "def print_keyword_ads_list(keyword_ads_list):\n",
    "    \"\"\"Print all Ads in a structured way.\"\"\"\n",
    "    for keyword_ad in keyword_ads_list:\n",
    "        print(\"### Keyword: {}\".format(keyword_ad.title))\n",
    "\n",
    "        if not keyword_ad.ad_list:\n",
    "            print(\"There are no ads.\")\n",
    "        else:\n",
    "            for ad in keyword_ad.ad_list:\n",
    "                print(\"#\\tText: {}\\n\\tLink: {}\".format(\n",
    "                    ad[\"text\"], ad[\"ad_link\"]))\n",
    "        print()"
   ]
  },
  {
   "cell_type": "code",
   "execution_count": null,
   "metadata": {},
   "outputs": [],
   "source": [
    "main()"
   ]
  },
  {
   "cell_type": "code",
   "execution_count": null,
   "metadata": {},
   "outputs": [],
   "source": []
  }
 ],
 "metadata": {
  "kernelspec": {
   "display_name": "env",
   "language": "python",
   "name": "env"
  },
  "language_info": {
   "codemirror_mode": {
    "name": "ipython",
    "version": 3
   },
   "file_extension": ".py",
   "mimetype": "text/x-python",
   "name": "python",
   "nbconvert_exporter": "python",
   "pygments_lexer": "ipython3",
   "version": "3.6.7"
  }
 },
 "nbformat": 4,
 "nbformat_minor": 2
}
