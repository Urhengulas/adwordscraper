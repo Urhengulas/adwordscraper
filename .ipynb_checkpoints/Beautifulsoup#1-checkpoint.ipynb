{
 "cells": [
  {
   "cell_type": "markdown",
   "metadata": {},
   "source": [
    "# Google Ads Scaper\n",
    "\n",
    "This scraper shall scrape Google Ads (Google Ad Words) for given keywords."
   ]
  },
  {
   "cell_type": "markdown",
   "metadata": {},
   "source": [
    "![logo](./pics/GoogleAds_002.png \"Logo Title Text 2\")"
   ]
  },
  {
   "cell_type": "markdown",
   "metadata": {},
   "source": [
    "### How are they structured\n",
    "\n",
    "<div id=\"tads\">\n",
    "    <ol>\n",
    "        <li class=\"ads-ad\">_</li>\n",
    "        <li class=\"ads-ad\">_</li>\n",
    "        <li class=\"ads-ad\">_</li>\n",
    "        ...\n",
    "    </ol>\n",
    "</div>\n",
    "\n",
    "- the Ads are in a list\n",
    "- All Ads are in one div with id=\"tads\""
   ]
  },
  {
   "cell_type": "code",
   "execution_count": 1,
   "metadata": {},
   "outputs": [],
   "source": [
    "from bs4 import BeautifulSoup\n",
    "import urllib3"
   ]
  },
  {
   "cell_type": "code",
   "execution_count": 9,
   "metadata": {},
   "outputs": [],
   "source": [
    "class AdWordScraper():\n",
    "    title = \"\"\n",
    "    url = \"\"\n",
    "    ad_list = []\n",
    "    \n",
    "    def __init__(self, keyword):\n",
    "        self.title = keyword\n",
    "        self.url = self.generate_url()\n",
    "        self.ad_list = self.scrape_ads()\n",
    "        \n",
    "    def generate_url(self):\n",
    "        keyword = self.title.lower()\n",
    "        split = keyword.split(\" \")\n",
    "        merge = \"+\".join(split)\n",
    "        link = \"http://www.google.de/search?q=\" + merge\n",
    "        return link\n",
    "    \n",
    "    def scrape_ads(self):\n",
    "        scraped = self.get_site_soup()    \n",
    "        ads = scraped.find_all(\"li\", {\"class\": \"ads-ad\"})\n",
    "        ad_list = []\n",
    "        for ad in ads:\n",
    "            dic = {\n",
    "                \"text\": ad.find('a').text,\n",
    "                \"ad_link\": ad.find('div', {'class': 'ads-visurl'}).cite.text,\n",
    "                \"html\": ad\n",
    "            }\n",
    "            ad_list.append(dic)\n",
    "\n",
    "        return ad_list\n",
    "    \n",
    "    def get_site_soup(self):\n",
    "        http = urllib3.PoolManager()\n",
    "        r = http.request('get', self.url)\n",
    "\n",
    "        # format it nicely and return\n",
    "        soup = BeautifulSoup(r.data, 'lxml')\n",
    "        return soup\n",
    "        "
   ]
  },
  {
   "cell_type": "code",
   "execution_count": 10,
   "metadata": {},
   "outputs": [],
   "source": [
    "Beutel = AdWordScraper(\"Beutel Bedrucken\")"
   ]
  },
  {
   "cell_type": "code",
   "execution_count": 11,
   "metadata": {},
   "outputs": [
    {
     "data": {
      "text/plain": [
       "[{'text': 'Beutel bedrucken | Ihre Werbeartikel hier im Shop | giffits.de',\n",
       "  'ad_link': 'www.giffits.de/Beutel/Bedrucken',\n",
       "  'html': <li class=\"ads-ad\"><h3 class=\"ellip\"><a href=\"/aclk?sa=l&amp;ai=DChcSEwj53aefuPXgAhWE4ncKHf6QAb8YABAAGgJlZg&amp;sig=AOD64_19XWYtXMjQExRajGxRNRNggBmKfQ&amp;ved=0ahUKEwiG8aOfuPXgAhXQLVAKHUmpCrUQ0QwIEg&amp;adurl=\"><b>Beutel bedrucken</b> | Ihre Werbeartikel hier im Shop | giffits.de</a></h3><div class=\"ads-visurl\"><span class=\"Z98Wse\">Anzeige</span><cite class=\"UdQCqe\">www.giffits.de/<b>Beutel</b>/<b>Bedrucken</b></cite><div class=\"Pj9hGd\"><div aria-expanded=\"false\" aria-haspopup=\"true\" data-ved=\"0ahUKEwiG8aOfuPXgAhXQLVAKHUmpCrUQ7B0IEw\" onclick=\"google.sham(this);\" style=\"display:inline\" tabindex=\"0\"><span class=\"CiacGf\"></span></div><div class=\"am-dropdown-menu\" role=\"menu\" style=\"display:none\" tabindex=\"-1\"><ul><li class=\"mUpfKd\" style=\"margin:0\"><a class=\"imx0m\" href=\"/url?q=/settings/ads/preferences%3Fhl%3Dde&amp;sa=U&amp;ved=0ahUKEwiG8aOfuPXgAhXQLVAKHUmpCrUQgRMIFQ&amp;usg=AOvVaw37gykLoq3tuEF5ZiUxnzE0\" target=\"_blank\">Warum sehe ich diese Werbung?</a></li></ul></div></div></div><div class=\"ads-creative XfY0Ec\">Die ganze Welt der Werbeartikel. Über 100.000 Produkte für Ihre starke Werbung. + Online Kalkulation. + Logo-Vorschau. + Günstige Preise. + Gratis Grafikservice.</div></li>}]"
      ]
     },
     "execution_count": 11,
     "metadata": {},
     "output_type": "execute_result"
    }
   ],
   "source": [
    "Beutel.ad_list"
   ]
  },
  {
   "cell_type": "code",
   "execution_count": 15,
   "metadata": {},
   "outputs": [],
   "source": [
    "keywords = [\"refugee\", \"eu\", \"europe\", \"smartphone\", \"google\", \"beutel\", \"bedrucken\", \"ads\", \"vote\", \"brexit\"]\n",
    "\n",
    "ads = [AdWordScraper(key) for key in keywords]\n",
    "\n",
    "\n",
    "    "
   ]
  },
  {
   "cell_type": "code",
   "execution_count": 16,
   "metadata": {},
   "outputs": [
    {
     "data": {
      "text/plain": [
       "[<__main__.AdWordScraper at 0x7f5576a7cac8>,\n",
       " <__main__.AdWordScraper at 0x7f5576a16400>,\n",
       " <__main__.AdWordScraper at 0x7f5576cd2e48>,\n",
       " <__main__.AdWordScraper at 0x7f5576a7ca58>,\n",
       " <__main__.AdWordScraper at 0x7f5576b50b38>,\n",
       " <__main__.AdWordScraper at 0x7f5576c49e10>,\n",
       " <__main__.AdWordScraper at 0x7f5577298cc0>,\n",
       " <__main__.AdWordScraper at 0x7f5576ff6198>,\n",
       " <__main__.AdWordScraper at 0x7f5576c6a668>,\n",
       " <__main__.AdWordScraper at 0x7f55771a6a90>]"
      ]
     },
     "execution_count": 16,
     "metadata": {},
     "output_type": "execute_result"
    }
   ],
   "source": [
    "ads"
   ]
  },
  {
   "cell_type": "code",
   "execution_count": 17,
   "metadata": {},
   "outputs": [
    {
     "ename": "SyntaxError",
     "evalue": "invalid syntax (<ipython-input-17-185e89932594>, line 2)",
     "output_type": "error",
     "traceback": [
      "\u001b[0;36m  File \u001b[0;32m\"<ipython-input-17-185e89932594>\"\u001b[0;36m, line \u001b[0;32m2\u001b[0m\n\u001b[0;31m    print(\"{}: {}\".format(ad.title, if ad.ad_list))\u001b[0m\n\u001b[0m                                     ^\u001b[0m\n\u001b[0;31mSyntaxError\u001b[0m\u001b[0;31m:\u001b[0m invalid syntax\n"
     ]
    }
   ],
   "source": [
    "for ad in ads:\n",
    "    print(\"{}: {}\".format(ad.title, if ad.ad_list))"
   ]
  },
  {
   "cell_type": "code",
   "execution_count": 21,
   "metadata": {},
   "outputs": [
    {
     "ename": "SyntaxError",
     "evalue": "invalid syntax (<ipython-input-21-e94dc6571d09>, line 1)",
     "output_type": "error",
     "traceback": [
      "\u001b[0;36m  File \u001b[0;32m\"<ipython-input-21-e94dc6571d09>\"\u001b[0;36m, line \u001b[0;32m1\u001b[0m\n\u001b[0;31m    if ads[0].ad_list && True\u001b[0m\n\u001b[0m                       ^\u001b[0m\n\u001b[0;31mSyntaxError\u001b[0m\u001b[0;31m:\u001b[0m invalid syntax\n"
     ]
    }
   ],
   "source": [
    "if ads[0].ad_list && True"
   ]
  },
  {
   "cell_type": "code",
   "execution_count": 24,
   "metadata": {},
   "outputs": [
    {
     "data": {
      "text/plain": [
       "False"
      ]
     },
     "execution_count": 24,
     "metadata": {},
     "output_type": "execute_result"
    }
   ],
   "source": [
    "not not ads[0].ad_list"
   ]
  },
  {
   "cell_type": "code",
   "execution_count": null,
   "metadata": {},
   "outputs": [],
   "source": []
  }
 ],
 "metadata": {
  "kernelspec": {
   "display_name": "env",
   "language": "python",
   "name": "env"
  },
  "language_info": {
   "codemirror_mode": {
    "name": "ipython",
    "version": 3
   },
   "file_extension": ".py",
   "mimetype": "text/x-python",
   "name": "python",
   "nbconvert_exporter": "python",
   "pygments_lexer": "ipython3",
   "version": "3.6.7"
  }
 },
 "nbformat": 4,
 "nbformat_minor": 2
}
